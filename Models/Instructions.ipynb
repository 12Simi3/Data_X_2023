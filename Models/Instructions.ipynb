{
 "cells": [
  {
   "cell_type": "code",
   "execution_count": 6,
   "metadata": {},
   "outputs": [
    {
     "data": {
      "text/plain": [
       "'\\n!pip install h5py\\n!pip install joblib\\n!pip install tensorflow\\n'"
      ]
     },
     "execution_count": 6,
     "metadata": {},
     "output_type": "execute_result"
    }
   ],
   "source": [
    "\"\"\"\n",
    "!pip install h5py\n",
    "!pip install joblib\n",
    "!pip install tensorflow\n",
    "\"\"\""
   ]
  },
  {
   "cell_type": "code",
   "execution_count": 7,
   "metadata": {},
   "outputs": [],
   "source": [
    "import joblib\n",
    "import h5py\n",
    "import tensorflow as tf\n",
    "import numpy as np"
   ]
  },
  {
   "attachments": {},
   "cell_type": "markdown",
   "metadata": {},
   "source": [
    "## Fuction to load the model of logistic regression\n",
    "Change paths if different model is needed."
   ]
  },
  {
   "cell_type": "code",
   "execution_count": 8,
   "metadata": {},
   "outputs": [],
   "source": [
    "def load_joblib_from_h5(h5_file, key):\n",
    "    with h5py.File(h5_file, 'r') as f:\n",
    "        joblib_data = f[key][()]\n",
    "    return joblib.load(joblib_data)\n",
    "\n",
    "h5_file_path = r'D:\\DAB\\2. semestr\\4IT439 - Data-X – aplikované analytické datové modely v reálných úlohách\\projekt1\\Data_X_2023\\Models\\Decision-Tree.h5'\n",
    "joblib_key = 'Decision Tree Classifier.joblib'  # The key you used when saving the joblib object in the h5 file\n",
    "\n",
    "joblib_object = load_joblib_from_h5(h5_file_path, joblib_key)"
   ]
  },
  {
   "attachments": {},
   "cell_type": "markdown",
   "metadata": {},
   "source": [
    "## Input your data"
   ]
  },
  {
   "cell_type": "code",
   "execution_count": 9,
   "metadata": {},
   "outputs": [
    {
     "name": "stdout",
     "output_type": "stream",
     "text": [
      "Predictions: ['Gentoo']\n"
     ]
    },
    {
     "name": "stderr",
     "output_type": "stream",
     "text": [
      "d:\\programy\\lib\\site-packages\\sklearn\\base.py:450: UserWarning: X does not have valid feature names, but DecisionTreeClassifier was fitted with feature names\n",
      "  warnings.warn(\n"
     ]
    }
   ],
   "source": [
    "model = joblib_object\n",
    "X_sample = np.array([[1, 2, 3, 2, 4, 5, 6]]) # input data\n",
    "\n",
    "# Make predictions using the loaded model\n",
    "predictions = model.predict(X_sample)\n",
    "print(\"Predictions:\", predictions)"
   ]
  }
 ],
 "metadata": {
  "kernelspec": {
   "display_name": "base",
   "language": "python",
   "name": "python3"
  },
  "language_info": {
   "codemirror_mode": {
    "name": "ipython",
    "version": 3
   },
   "file_extension": ".py",
   "mimetype": "text/x-python",
   "name": "python",
   "nbconvert_exporter": "python",
   "pygments_lexer": "ipython3",
   "version": "3.9.13"
  },
  "orig_nbformat": 4
 },
 "nbformat": 4,
 "nbformat_minor": 2
}
